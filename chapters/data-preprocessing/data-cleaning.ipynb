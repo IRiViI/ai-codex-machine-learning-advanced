{
 "cells": [
  {
   "cell_type": "code",
   "execution_count": 260,
   "metadata": {},
   "outputs": [],
   "source": [
    "import pandas as pd\n",
    "from sklearn.model_selection import train_test_split\n",
    "from sklearn.linear_model import LinearRegression\n",
    "import numpy as np\n",
    "\n",
    "from sklearn.experimental import enable_iterative_imputer\n",
    "from sklearn.impute import SimpleImputer, KNNImputer, IterativeImputer\n",
    "from sklearn.preprocessing import OrdinalEncoder, OneHotEncoder, TargetEncoder\n",
    "from sklearn.compose import ColumnTransformer\n",
    "from sklearn.preprocessing import StandardScaler, MinMaxScaler\n",
    "\n",
    "from sklearn.pipeline import Pipeline, make_pipeline"
   ]
  },
  {
   "cell_type": "code",
   "execution_count": 261,
   "metadata": {},
   "outputs": [],
   "source": [
    "df = pd.read_csv('../../data/cars/cars.csv')"
   ]
  },
  {
   "cell_type": "markdown",
   "metadata": {},
   "source": [
    "## Default cleaning"
   ]
  },
  {
   "cell_type": "code",
   "execution_count": 262,
   "metadata": {},
   "outputs": [],
   "source": [
    "# I assume that the relationships between card brands and types are different and can't be captured by a single model\n",
    "df = df.drop_duplicates()\n",
    "df = df.query('Make == \"Volkswagen\"')\n",
    "df = df[df['Model'].str.contains('Golf')]\n",
    "df = df[df['Model'].isin(['Golf', 'Golf GTI', 'Golf Variant', 'Golf GTE', 'Golf Plus'])]"
   ]
  },
  {
   "cell_type": "markdown",
   "metadata": {},
   "source": [
    "## Train test split"
   ]
  },
  {
   "cell_type": "code",
   "execution_count": 263,
   "metadata": {},
   "outputs": [],
   "source": [
    "train, validation = train_test_split(df, test_size=0.25, random_state=42)  "
   ]
  },
  {
   "cell_type": "markdown",
   "metadata": {},
   "source": [
    "## Cleaning"
   ]
  },
  {
   "cell_type": "code",
   "execution_count": 264,
   "metadata": {},
   "outputs": [],
   "source": [
    "def clean_data(df):\n",
    "    df = df.copy()\n",
    "\n",
    "    # Feature names\n",
    "    # Convert to dates\n",
    "    date_features = ['Production_Date', 'Build_Year', 'Technical_Inspection', 'Last_Service']\n",
    "    for feature in date_features:\n",
    "        df[feature] = pd.to_datetime(df[feature], format='mixed')\n",
    "\n",
    "    # Engine_Displacement\n",
    "    def fix_engine_displacement(row):\n",
    "        if row['Engine_Displacement'] > 10:\n",
    "            return row['Engine_Displacement'] / 1000\n",
    "        return row['Engine_Displacement']\n",
    "    # Remove other energy\n",
    "    df['Engine_Displacement'] = df.apply(fix_engine_displacement, axis=1)\n",
    "\n",
    "    # Fuel Electric -> drop\n",
    "    df = df[df['Fuel'] != 'Electric']\n",
    "\n",
    "    # Category\n",
    "    df['Category'] = df['Category'].replace(\n",
    "        {'New Registered': \"New\", \n",
    "        'Classic': \"Used\", \n",
    "        'Demo': \"Used\", \n",
    "    })\n",
    "\n",
    "    # Doors\n",
    "    df['Doors'] = df['Doors'].replace(\n",
    "        {2: 3, \n",
    "        4: 5, \n",
    "    })  \n",
    "\n",
    "    # Rare Body types: Remove\n",
    "    rare_body_types = ['SUV/Off-Road/Pick-Up', 'Overig', 'Cabrio', 'Sedan']\n",
    "    df = df[~df['Body_Type'].isin(rare_body_types)]\n",
    "\n",
    "    # Drive_Type: missing -> Front\n",
    "    df['Drive_Type'] = df['Drive_Type'].replace(np.nan, 'Front')\n",
    "\n",
    "    # Transmission: Semi-automatic -> Automatic\n",
    "    df['Transmission'] = df['Transmission'].replace('Semi-automatic', 'Automatic')\n",
    "\n",
    "    current_date = pd.to_datetime('2025-07-01')\n",
    "    df['Age_Months'] = (current_date.year - df['Production_Date'].dt.year) * 12 + (current_date.month - df['Production_Date'].dt.month)\n",
    "\n",
    "    del df['Make']\n",
    "    del df['Seats']\n",
    "    del df['Non_Smoker_Car']\n",
    "    del df['Warranty']\n",
    "    del df['Last_Service']\n",
    "    del df['Electric_Range']\n",
    "    del df['Other_Energy_Sources']\n",
    "    del df['Production_Year']\n",
    "    del df['Build_Year']\n",
    "    del df['Technical_Inspection']\n",
    "    del df['Production_Date']\n",
    "\n",
    "    categorical_features = ['Model', 'Color', 'Body_Type', 'Drive_Type',\n",
    "       'Transmission', 'Emission_Class', 'Fuel', 'Category',\n",
    "       'Interior_Material', 'Interior_Color', 'Paint_Type', 'Doors']\n",
    "    \n",
    "    # Convert to categorical\n",
    "    for feature in categorical_features:\n",
    "        df[feature] = df[feature].astype('category')\n",
    "\n",
    "    return df"
   ]
  },
  {
   "cell_type": "code",
   "execution_count": 265,
   "metadata": {},
   "outputs": [],
   "source": [
    "train_clean = clean_data(train)\n",
    "validation_clean = clean_data(validation)"
   ]
  },
  {
   "cell_type": "code",
   "execution_count": 266,
   "metadata": {},
   "outputs": [
    {
     "data": {
      "text/html": [
       "<div>\n",
       "<style scoped>\n",
       "    .dataframe tbody tr th:only-of-type {\n",
       "        vertical-align: middle;\n",
       "    }\n",
       "\n",
       "    .dataframe tbody tr th {\n",
       "        vertical-align: top;\n",
       "    }\n",
       "\n",
       "    .dataframe thead th {\n",
       "        text-align: right;\n",
       "    }\n",
       "</style>\n",
       "<table border=\"1\" class=\"dataframe\">\n",
       "  <thead>\n",
       "    <tr style=\"text-align: right;\">\n",
       "      <th></th>\n",
       "      <th>Model</th>\n",
       "      <th>Color</th>\n",
       "      <th>Body_Type</th>\n",
       "      <th>Drive_Type</th>\n",
       "      <th>Transmission</th>\n",
       "      <th>Mileage</th>\n",
       "      <th>Emission_Class</th>\n",
       "      <th>Power</th>\n",
       "      <th>Engine_Displacement</th>\n",
       "      <th>Fuel</th>\n",
       "      <th>...</th>\n",
       "      <th>Gears</th>\n",
       "      <th>Cylinders</th>\n",
       "      <th>Curb_Weight</th>\n",
       "      <th>CO2_Emission</th>\n",
       "      <th>Interior_Material</th>\n",
       "      <th>Price</th>\n",
       "      <th>Interior_Color</th>\n",
       "      <th>Paint_Type</th>\n",
       "      <th>Fuel_Consumption</th>\n",
       "      <th>Age_Months</th>\n",
       "    </tr>\n",
       "  </thead>\n",
       "  <tbody>\n",
       "    <tr>\n",
       "      <th>253</th>\n",
       "      <td>Golf</td>\n",
       "      <td>Blue</td>\n",
       "      <td>Hatchback</td>\n",
       "      <td>Front</td>\n",
       "      <td>Manual</td>\n",
       "      <td>89961.0</td>\n",
       "      <td>Euro 4</td>\n",
       "      <td>55.0</td>\n",
       "      <td>1.390</td>\n",
       "      <td>Petrol</td>\n",
       "      <td>...</td>\n",
       "      <td>NaN</td>\n",
       "      <td>4.0</td>\n",
       "      <td>1065.0</td>\n",
       "      <td>161.0</td>\n",
       "      <td>NaN</td>\n",
       "      <td>2450.0</td>\n",
       "      <td>Black</td>\n",
       "      <td>Metallic</td>\n",
       "      <td>NaN</td>\n",
       "      <td>284</td>\n",
       "    </tr>\n",
       "    <tr>\n",
       "      <th>891</th>\n",
       "      <td>Golf</td>\n",
       "      <td>Black</td>\n",
       "      <td>Hatchback</td>\n",
       "      <td>Front</td>\n",
       "      <td>Manual</td>\n",
       "      <td>253000.0</td>\n",
       "      <td>Euro 5</td>\n",
       "      <td>90.0</td>\n",
       "      <td>1.390</td>\n",
       "      <td>Petrol</td>\n",
       "      <td>...</td>\n",
       "      <td>NaN</td>\n",
       "      <td>4.0</td>\n",
       "      <td>1190.0</td>\n",
       "      <td>144.0</td>\n",
       "      <td>NaN</td>\n",
       "      <td>3999.0</td>\n",
       "      <td>NaN</td>\n",
       "      <td>NaN</td>\n",
       "      <td>NaN</td>\n",
       "      <td>189</td>\n",
       "    </tr>\n",
       "    <tr>\n",
       "      <th>9306</th>\n",
       "      <td>Golf GTI</td>\n",
       "      <td>White</td>\n",
       "      <td>Hatchback</td>\n",
       "      <td>Front</td>\n",
       "      <td>Automatic</td>\n",
       "      <td>253775.0</td>\n",
       "      <td>Euro 5</td>\n",
       "      <td>155.0</td>\n",
       "      <td>1.984</td>\n",
       "      <td>Petrol</td>\n",
       "      <td>...</td>\n",
       "      <td>6.0</td>\n",
       "      <td>4.0</td>\n",
       "      <td>1314.0</td>\n",
       "      <td>173.0</td>\n",
       "      <td>Fabric</td>\n",
       "      <td>7945.0</td>\n",
       "      <td>Black</td>\n",
       "      <td>NaN</td>\n",
       "      <td>NaN</td>\n",
       "      <td>186</td>\n",
       "    </tr>\n",
       "    <tr>\n",
       "      <th>11</th>\n",
       "      <td>Golf</td>\n",
       "      <td>Black</td>\n",
       "      <td>Hatchback</td>\n",
       "      <td>Front</td>\n",
       "      <td>Manual</td>\n",
       "      <td>168000.0</td>\n",
       "      <td>Euro 2</td>\n",
       "      <td>74.0</td>\n",
       "      <td>1.595</td>\n",
       "      <td>Petrol</td>\n",
       "      <td>...</td>\n",
       "      <td>5.0</td>\n",
       "      <td>4.0</td>\n",
       "      <td>1049.0</td>\n",
       "      <td>185.0</td>\n",
       "      <td>NaN</td>\n",
       "      <td>1250.0</td>\n",
       "      <td>NaN</td>\n",
       "      <td>Other</td>\n",
       "      <td>7.7</td>\n",
       "      <td>313</td>\n",
       "    </tr>\n",
       "    <tr>\n",
       "      <th>257</th>\n",
       "      <td>Golf</td>\n",
       "      <td>Blue</td>\n",
       "      <td>Hatchback</td>\n",
       "      <td>Front</td>\n",
       "      <td>Manual</td>\n",
       "      <td>303103.0</td>\n",
       "      <td>Euro 4</td>\n",
       "      <td>77.0</td>\n",
       "      <td>1.595</td>\n",
       "      <td>Petrol</td>\n",
       "      <td>...</td>\n",
       "      <td>5.0</td>\n",
       "      <td>4.0</td>\n",
       "      <td>1107.0</td>\n",
       "      <td>166.0</td>\n",
       "      <td>Velour</td>\n",
       "      <td>1250.0</td>\n",
       "      <td>Beige</td>\n",
       "      <td>Metallic</td>\n",
       "      <td>NaN</td>\n",
       "      <td>281</td>\n",
       "    </tr>\n",
       "    <tr>\n",
       "      <th>...</th>\n",
       "      <td>...</td>\n",
       "      <td>...</td>\n",
       "      <td>...</td>\n",
       "      <td>...</td>\n",
       "      <td>...</td>\n",
       "      <td>...</td>\n",
       "      <td>...</td>\n",
       "      <td>...</td>\n",
       "      <td>...</td>\n",
       "      <td>...</td>\n",
       "      <td>...</td>\n",
       "      <td>...</td>\n",
       "      <td>...</td>\n",
       "      <td>...</td>\n",
       "      <td>...</td>\n",
       "      <td>...</td>\n",
       "      <td>...</td>\n",
       "      <td>...</td>\n",
       "      <td>...</td>\n",
       "      <td>...</td>\n",
       "      <td>...</td>\n",
       "    </tr>\n",
       "    <tr>\n",
       "      <th>3742</th>\n",
       "      <td>Golf Variant</td>\n",
       "      <td>Black</td>\n",
       "      <td>Stationwagen</td>\n",
       "      <td>Front</td>\n",
       "      <td>Automatic</td>\n",
       "      <td>178342.0</td>\n",
       "      <td>Euro 6</td>\n",
       "      <td>85.0</td>\n",
       "      <td>0.999</td>\n",
       "      <td>Petrol</td>\n",
       "      <td>...</td>\n",
       "      <td>NaN</td>\n",
       "      <td>3.0</td>\n",
       "      <td>1210.0</td>\n",
       "      <td>103.0</td>\n",
       "      <td>Fabric</td>\n",
       "      <td>10445.0</td>\n",
       "      <td>Black</td>\n",
       "      <td>NaN</td>\n",
       "      <td>NaN</td>\n",
       "      <td>106</td>\n",
       "    </tr>\n",
       "    <tr>\n",
       "      <th>896</th>\n",
       "      <td>Golf</td>\n",
       "      <td>Black</td>\n",
       "      <td>Stationwagen</td>\n",
       "      <td>Front</td>\n",
       "      <td>Manual</td>\n",
       "      <td>154000.0</td>\n",
       "      <td>NaN</td>\n",
       "      <td>59.0</td>\n",
       "      <td>NaN</td>\n",
       "      <td>Petrol</td>\n",
       "      <td>...</td>\n",
       "      <td>5.0</td>\n",
       "      <td>NaN</td>\n",
       "      <td>NaN</td>\n",
       "      <td>NaN</td>\n",
       "      <td>Fabric</td>\n",
       "      <td>4500.0</td>\n",
       "      <td>Black</td>\n",
       "      <td>NaN</td>\n",
       "      <td>NaN</td>\n",
       "      <td>192</td>\n",
       "    </tr>\n",
       "    <tr>\n",
       "      <th>1730</th>\n",
       "      <td>Golf</td>\n",
       "      <td>Black</td>\n",
       "      <td>Hatchback</td>\n",
       "      <td>Front</td>\n",
       "      <td>Automatic</td>\n",
       "      <td>205000.0</td>\n",
       "      <td>NaN</td>\n",
       "      <td>125.0</td>\n",
       "      <td>NaN</td>\n",
       "      <td>Diesel</td>\n",
       "      <td>...</td>\n",
       "      <td>NaN</td>\n",
       "      <td>NaN</td>\n",
       "      <td>NaN</td>\n",
       "      <td>NaN</td>\n",
       "      <td>NaN</td>\n",
       "      <td>7999.0</td>\n",
       "      <td>Black</td>\n",
       "      <td>Metallic</td>\n",
       "      <td>NaN</td>\n",
       "      <td>168</td>\n",
       "    </tr>\n",
       "    <tr>\n",
       "      <th>7347</th>\n",
       "      <td>Golf</td>\n",
       "      <td>Black</td>\n",
       "      <td>Hatchback</td>\n",
       "      <td>Front</td>\n",
       "      <td>Automatic</td>\n",
       "      <td>9179.0</td>\n",
       "      <td>Euro 6d-TEMP</td>\n",
       "      <td>150.0</td>\n",
       "      <td>1.498</td>\n",
       "      <td>Hybrid Petrol</td>\n",
       "      <td>...</td>\n",
       "      <td>6.0</td>\n",
       "      <td>4.0</td>\n",
       "      <td>1549.0</td>\n",
       "      <td>7.0</td>\n",
       "      <td>Fabric</td>\n",
       "      <td>40600.0</td>\n",
       "      <td>Black</td>\n",
       "      <td>Metallic</td>\n",
       "      <td>NaN</td>\n",
       "      <td>4</td>\n",
       "    </tr>\n",
       "    <tr>\n",
       "      <th>1726</th>\n",
       "      <td>Golf</td>\n",
       "      <td>White</td>\n",
       "      <td>Hatchback</td>\n",
       "      <td>4x4</td>\n",
       "      <td>Automatic</td>\n",
       "      <td>205496.0</td>\n",
       "      <td>Euro 5</td>\n",
       "      <td>199.0</td>\n",
       "      <td>1.984</td>\n",
       "      <td>Petrol</td>\n",
       "      <td>...</td>\n",
       "      <td>6.0</td>\n",
       "      <td>4.0</td>\n",
       "      <td>1441.0</td>\n",
       "      <td>195.0</td>\n",
       "      <td>Fabric</td>\n",
       "      <td>13750.0</td>\n",
       "      <td>NaN</td>\n",
       "      <td>NaN</td>\n",
       "      <td>NaN</td>\n",
       "      <td>173</td>\n",
       "    </tr>\n",
       "  </tbody>\n",
       "</table>\n",
       "<p>285 rows × 22 columns</p>\n",
       "</div>"
      ],
      "text/plain": [
       "             Model  Color     Body_Type Drive_Type Transmission   Mileage  \\\n",
       "253           Golf   Blue     Hatchback      Front       Manual   89961.0   \n",
       "891           Golf  Black     Hatchback      Front       Manual  253000.0   \n",
       "9306      Golf GTI  White     Hatchback      Front    Automatic  253775.0   \n",
       "11            Golf  Black     Hatchback      Front       Manual  168000.0   \n",
       "257           Golf   Blue     Hatchback      Front       Manual  303103.0   \n",
       "...            ...    ...           ...        ...          ...       ...   \n",
       "3742  Golf Variant  Black  Stationwagen      Front    Automatic  178342.0   \n",
       "896           Golf  Black  Stationwagen      Front       Manual  154000.0   \n",
       "1730          Golf  Black     Hatchback      Front    Automatic  205000.0   \n",
       "7347          Golf  Black     Hatchback      Front    Automatic    9179.0   \n",
       "1726          Golf  White     Hatchback        4x4    Automatic  205496.0   \n",
       "\n",
       "     Emission_Class  Power  Engine_Displacement           Fuel  ... Gears  \\\n",
       "253          Euro 4   55.0                1.390         Petrol  ...   NaN   \n",
       "891          Euro 5   90.0                1.390         Petrol  ...   NaN   \n",
       "9306         Euro 5  155.0                1.984         Petrol  ...   6.0   \n",
       "11           Euro 2   74.0                1.595         Petrol  ...   5.0   \n",
       "257          Euro 4   77.0                1.595         Petrol  ...   5.0   \n",
       "...             ...    ...                  ...            ...  ...   ...   \n",
       "3742         Euro 6   85.0                0.999         Petrol  ...   NaN   \n",
       "896             NaN   59.0                  NaN         Petrol  ...   5.0   \n",
       "1730            NaN  125.0                  NaN         Diesel  ...   NaN   \n",
       "7347   Euro 6d-TEMP  150.0                1.498  Hybrid Petrol  ...   6.0   \n",
       "1726         Euro 5  199.0                1.984         Petrol  ...   6.0   \n",
       "\n",
       "     Cylinders  Curb_Weight  CO2_Emission  Interior_Material    Price  \\\n",
       "253        4.0       1065.0         161.0                NaN   2450.0   \n",
       "891        4.0       1190.0         144.0                NaN   3999.0   \n",
       "9306       4.0       1314.0         173.0             Fabric   7945.0   \n",
       "11         4.0       1049.0         185.0                NaN   1250.0   \n",
       "257        4.0       1107.0         166.0             Velour   1250.0   \n",
       "...        ...          ...           ...                ...      ...   \n",
       "3742       3.0       1210.0         103.0             Fabric  10445.0   \n",
       "896        NaN          NaN           NaN             Fabric   4500.0   \n",
       "1730       NaN          NaN           NaN                NaN   7999.0   \n",
       "7347       4.0       1549.0           7.0             Fabric  40600.0   \n",
       "1726       4.0       1441.0         195.0             Fabric  13750.0   \n",
       "\n",
       "     Interior_Color  Paint_Type Fuel_Consumption Age_Months  \n",
       "253           Black    Metallic              NaN        284  \n",
       "891             NaN         NaN              NaN        189  \n",
       "9306          Black         NaN              NaN        186  \n",
       "11              NaN       Other              7.7        313  \n",
       "257           Beige    Metallic              NaN        281  \n",
       "...             ...         ...              ...        ...  \n",
       "3742          Black         NaN              NaN        106  \n",
       "896           Black         NaN              NaN        192  \n",
       "1730          Black    Metallic              NaN        168  \n",
       "7347          Black    Metallic              NaN          4  \n",
       "1726            NaN         NaN              NaN        173  \n",
       "\n",
       "[285 rows x 22 columns]"
      ]
     },
     "execution_count": 266,
     "metadata": {},
     "output_type": "execute_result"
    }
   ],
   "source": [
    "train_clean"
   ]
  },
  {
   "cell_type": "code",
   "execution_count": 267,
   "metadata": {},
   "outputs": [
    {
     "data": {
      "text/plain": [
       "Model                  category\n",
       "Color                  category\n",
       "Body_Type              category\n",
       "Drive_Type             category\n",
       "Transmission           category\n",
       "Mileage                 float64\n",
       "Emission_Class         category\n",
       "Power                   float64\n",
       "Engine_Displacement     float64\n",
       "Fuel                   category\n",
       "Category               category\n",
       "Doors                  category\n",
       "Gears                   float64\n",
       "Cylinders               float64\n",
       "Curb_Weight             float64\n",
       "CO2_Emission            float64\n",
       "Interior_Material      category\n",
       "Price                   float64\n",
       "Interior_Color         category\n",
       "Paint_Type             category\n",
       "Fuel_Consumption        float64\n",
       "Age_Months                int32\n",
       "dtype: object"
      ]
     },
     "execution_count": 267,
     "metadata": {},
     "output_type": "execute_result"
    }
   ],
   "source": [
    "train_clean.dtypes"
   ]
  },
  {
   "cell_type": "code",
   "execution_count": 268,
   "metadata": {},
   "outputs": [
    {
     "data": {
      "text/plain": [
       "Index(['Model', 'Color', 'Body_Type', 'Drive_Type', 'Transmission', 'Mileage',\n",
       "       'Emission_Class', 'Power', 'Engine_Displacement', 'Fuel', 'Category',\n",
       "       'Doors', 'Gears', 'Cylinders', 'Curb_Weight', 'CO2_Emission',\n",
       "       'Interior_Material', 'Price', 'Interior_Color', 'Paint_Type',\n",
       "       'Fuel_Consumption', 'Age_Months'],\n",
       "      dtype='object')"
      ]
     },
     "execution_count": 268,
     "metadata": {},
     "output_type": "execute_result"
    }
   ],
   "source": [
    "train_clean.columns"
   ]
  },
  {
   "cell_type": "code",
   "execution_count": 269,
   "metadata": {},
   "outputs": [],
   "source": [
    "categorical_features = train_clean.select_dtypes(include=['category']).columns.tolist()\n",
    "numerical_features = [f for f in train_clean.columns if f not in categorical_features + ['Price']]"
   ]
  },
  {
   "cell_type": "code",
   "execution_count": 270,
   "metadata": {},
   "outputs": [
    {
     "data": {
      "text/plain": [
       "['Model',\n",
       " 'Color',\n",
       " 'Body_Type',\n",
       " 'Drive_Type',\n",
       " 'Transmission',\n",
       " 'Emission_Class',\n",
       " 'Fuel',\n",
       " 'Category',\n",
       " 'Doors',\n",
       " 'Interior_Material',\n",
       " 'Interior_Color',\n",
       " 'Paint_Type']"
      ]
     },
     "execution_count": 270,
     "metadata": {},
     "output_type": "execute_result"
    }
   ],
   "source": [
    "categorical_features"
   ]
  },
  {
   "cell_type": "code",
   "execution_count": 271,
   "metadata": {},
   "outputs": [
    {
     "data": {
      "text/plain": [
       "['Mileage',\n",
       " 'Power',\n",
       " 'Engine_Displacement',\n",
       " 'Gears',\n",
       " 'Cylinders',\n",
       " 'Curb_Weight',\n",
       " 'CO2_Emission',\n",
       " 'Fuel_Consumption',\n",
       " 'Age_Months']"
      ]
     },
     "execution_count": 271,
     "metadata": {},
     "output_type": "execute_result"
    }
   ],
   "source": [
    "numerical_features"
   ]
  },
  {
   "cell_type": "code",
   "execution_count": 272,
   "metadata": {},
   "outputs": [],
   "source": [
    "X_train, y_train = train_clean[numerical_features + categorical_features], train_clean['Price']\n",
    "X_validation, y_validation = validation_clean[numerical_features + categorical_features], validation_clean['Price']"
   ]
  },
  {
   "cell_type": "markdown",
   "metadata": {},
   "source": [
    "## Encoders"
   ]
  },
  {
   "cell_type": "markdown",
   "metadata": {},
   "source": [
    "### Ordinal encoder + Simple imputer"
   ]
  },
  {
   "cell_type": "markdown",
   "metadata": {},
   "source": [
    "Using solely pandas"
   ]
  },
  {
   "cell_type": "code",
   "execution_count": 273,
   "metadata": {},
   "outputs": [
    {
     "name": "stdout",
     "output_type": "stream",
     "text": [
      "0.9010417083880922 0.8718489378305095\n"
     ]
    }
   ],
   "source": [
    "model = LinearRegression()\n",
    "\n",
    "# # Encoding categorical features with OrdinalEncoder\n",
    "encoder = OrdinalEncoder(handle_unknown='use_encoded_value',\n",
    "                         unknown_value=np.nan,\n",
    "                        #  encoded_missing_value=-1\n",
    "                         )\n",
    "\n",
    "encoder.fit(X_train[categorical_features])\n",
    "\n",
    "X_train_clean = pd.DataFrame(encoder.transform(X_train[categorical_features]), \n",
    "                              columns=encoder.get_feature_names_out(), \n",
    "                              index=X_train.index)\n",
    "\n",
    "X_validation_clean = pd.DataFrame(encoder.transform(X_validation[categorical_features]),\n",
    "                                columns=encoder.get_feature_names_out(), \n",
    "                                index=X_validation.index)\n",
    "\n",
    "# Missing values simple imputer\n",
    "imputer = SimpleImputer(strategy='most_frequent')\n",
    "\n",
    "imputer.fit(X_train_clean)\n",
    "\n",
    "X_train_clean = pd.DataFrame(imputer.transform(X_train_clean), \n",
    "                            columns=X_train_clean.columns, \n",
    "                            index=X_train_clean.index)\n",
    "\n",
    "X_validation_clean = pd.DataFrame(imputer.transform(X_validation_clean), \n",
    "                                columns=X_validation_clean.columns, \n",
    "                                index=X_validation_clean.index)\n",
    "\n",
    "# Missing values numerical features simple  imputer\n",
    "imputer_num = SimpleImputer(strategy='mean')\n",
    "\n",
    "imputer_num.fit(X_train[numerical_features])\n",
    "\n",
    "X_train_clean_num = pd.DataFrame(imputer_num.transform(X_train[numerical_features]), \n",
    "                            columns=numerical_features, \n",
    "                            index=X_train.index)\n",
    "\n",
    "X_validation_clean_num = pd.DataFrame(imputer_num.transform(X_validation[numerical_features]), \n",
    "                                columns=numerical_features, \n",
    "                                index=X_validation.index)\n",
    "\n",
    "X_train_clean = X_train_clean.join(X_train_clean_num)\n",
    "X_validation_clean = X_validation_clean.join(X_validation_clean_num)\n",
    "\n",
    "model.fit(X_train_clean, y_train)\n",
    "\n",
    "print(model.score(X_train_clean, y_train),\n",
    "    model.score(X_validation_clean, y_validation))\n"
   ]
  },
  {
   "cell_type": "code",
   "execution_count": 274,
   "metadata": {},
   "outputs": [
    {
     "name": "stdout",
     "output_type": "stream",
     "text": [
      "0.901041708388092 0.8718489378305105\n"
     ]
    }
   ],
   "source": [
    "preprocessing = ColumnTransformer(\n",
    "    transformers=[\n",
    "        ('cat', Pipeline(steps=[\n",
    "            ('encoder', OrdinalEncoder(\n",
    "                         handle_unknown='use_encoded_value',\n",
    "                         unknown_value=np.nan,)),\n",
    "            ('imputer', SimpleImputer(strategy='most_frequent'))\n",
    "        ]), categorical_features),\n",
    "        ('num', SimpleImputer(strategy='mean'), numerical_features)\n",
    "    ]\n",
    ")\n",
    "\n",
    "pipeline = Pipeline(steps=[\n",
    "    ('preprocessing', preprocessing),\n",
    "    ('model', LinearRegression())\n",
    "])\n",
    "\n",
    "pipeline.fit(X_train, y_train)\n",
    "\n",
    "print(pipeline.score(X_train, y_train),\n",
    "    pipeline.score(X_validation, y_validation))"
   ]
  },
  {
   "cell_type": "markdown",
   "metadata": {},
   "source": [
    "### One hot"
   ]
  },
  {
   "cell_type": "code",
   "execution_count": 275,
   "metadata": {},
   "outputs": [
    {
     "name": "stdout",
     "output_type": "stream",
     "text": [
      "0.9200499328430262 0.8803179238585175\n"
     ]
    }
   ],
   "source": [
    "model = LinearRegression()\n",
    "\n",
    "preprocessing = ColumnTransformer(\n",
    "    transformers=[\n",
    "        ('cat', Pipeline(steps=[\n",
    "            ('imputer', SimpleImputer(strategy='most_frequent')), # With most frequent first now\n",
    "            ('encoder', OneHotEncoder(drop='first', handle_unknown='ignore')),\n",
    "        ]), categorical_features),\n",
    "        ('num',  SimpleImputer(strategy='mean'), \n",
    "         numerical_features)\n",
    "    ])\n",
    "\n",
    "pipeline = Pipeline(steps=[\n",
    "    ('preprocessing', preprocessing),\n",
    "    ('model', model)\n",
    "])\n",
    "\n",
    "pipeline.fit(X_train, y_train)\n",
    "\n",
    "print(pipeline.score(X_train, y_train),\n",
    "    pipeline.score(X_validation, y_validation))"
   ]
  },
  {
   "cell_type": "markdown",
   "metadata": {},
   "source": [
    "Replace simple imputer with handle_unkown with ignore"
   ]
  },
  {
   "cell_type": "code",
   "execution_count": 276,
   "metadata": {},
   "outputs": [
    {
     "name": "stdout",
     "output_type": "stream",
     "text": [
      "0.928259041814029 0.8803676140474943\n"
     ]
    }
   ],
   "source": [
    "model = LinearRegression()\n",
    "\n",
    "preprocessing = ColumnTransformer(\n",
    "    transformers=[\n",
    "        ('cat', OneHotEncoder(drop='first', handle_unknown='ignore'), categorical_features),\n",
    "        ('num', SimpleImputer(strategy='mean'), numerical_features)\n",
    "    ])\n",
    "\n",
    "pipeline = Pipeline(steps=[\n",
    "    ('preprocessing', preprocessing),\n",
    "    ('model', model)\n",
    "])\n",
    "\n",
    "pipeline.fit(X_train, y_train)\n",
    "\n",
    "print(pipeline.score(X_train, y_train),\n",
    "    pipeline.score(X_validation, y_validation))"
   ]
  },
  {
   "cell_type": "markdown",
   "metadata": {},
   "source": [
    "Add treshold"
   ]
  },
  {
   "cell_type": "code",
   "execution_count": 277,
   "metadata": {},
   "outputs": [
    {
     "name": "stdout",
     "output_type": "stream",
     "text": [
      "0.9202987049328966 0.860109667213366\n"
     ]
    }
   ],
   "source": [
    "model = LinearRegression()\n",
    "\n",
    "preprocessing = ColumnTransformer(\n",
    "    transformers=[\n",
    "        ('cat', Pipeline(steps=[\n",
    "            ('encoder', OneHotEncoder(drop='first', handle_unknown='ignore', min_frequency=6)),\n",
    "        ]), categorical_features),\n",
    "        ('num', SimpleImputer(strategy='mean'), \n",
    "         numerical_features)\n",
    "    ])\n",
    "\n",
    "pipeline = Pipeline(steps=[\n",
    "    ('preprocessing', preprocessing),\n",
    "    ('model', model)\n",
    "])\n",
    "\n",
    "pipeline.fit(X_train, y_train)\n",
    "\n",
    "print(pipeline.score(X_train, y_train),\n",
    "    pipeline.score(X_validation, y_validation))"
   ]
  },
  {
   "cell_type": "markdown",
   "metadata": {},
   "source": [
    "### Target encoding"
   ]
  },
  {
   "cell_type": "code",
   "execution_count": 278,
   "metadata": {},
   "outputs": [
    {
     "name": "stdout",
     "output_type": "stream",
     "text": [
      "0.906006071728734 0.8717450651102618\n"
     ]
    }
   ],
   "source": [
    "model = LinearRegression()\n",
    "\n",
    "preprocessing = ColumnTransformer(\n",
    "    transformers=[\n",
    "        ('cat', Pipeline(steps=[\n",
    "            ('encoder', TargetEncoder(target_type='continuous')),\n",
    "        ]), categorical_features),\n",
    "        ('num', SimpleImputer(strategy='mean'), \n",
    "         numerical_features)\n",
    "    ])\n",
    "\n",
    "pipeline = Pipeline(steps=[\n",
    "    ('preprocessing', preprocessing),\n",
    "    ('model', model)\n",
    "])\n",
    "\n",
    "pipeline.fit(X_train, y_train)\n",
    "\n",
    "print(pipeline.score(X_train, y_train),\n",
    "    pipeline.score(X_validation, y_validation))"
   ]
  },
  {
   "cell_type": "markdown",
   "metadata": {},
   "source": [
    "Turn smoothing off"
   ]
  },
  {
   "cell_type": "code",
   "execution_count": 281,
   "metadata": {},
   "outputs": [
    {
     "name": "stdout",
     "output_type": "stream",
     "text": [
      "0.9062269096189138 0.8756064352292097\n"
     ]
    }
   ],
   "source": [
    "model = LinearRegression()\n",
    "\n",
    "preprocessing = ColumnTransformer(\n",
    "    transformers=[\n",
    "        ('cat', Pipeline(steps=[\n",
    "            ('encoder', TargetEncoder(target_type='continuous', smooth=0)),\n",
    "        ]), categorical_features),\n",
    "        ('num', SimpleImputer(strategy='mean'), \n",
    "         numerical_features)\n",
    "    ])\n",
    "\n",
    "pipeline = Pipeline(steps=[\n",
    "    ('preprocessing', preprocessing),\n",
    "    ('model', model)\n",
    "])\n",
    "\n",
    "pipeline.fit(X_train, y_train)\n",
    "\n",
    "print(pipeline.score(X_train, y_train),\n",
    "    pipeline.score(X_validation, y_validation))"
   ]
  },
  {
   "cell_type": "markdown",
   "metadata": {},
   "source": [
    "## Imputers"
   ]
  },
  {
   "cell_type": "markdown",
   "metadata": {},
   "source": [
    "### KNN imputer"
   ]
  },
  {
   "cell_type": "code",
   "execution_count": 291,
   "metadata": {},
   "outputs": [
    {
     "name": "stdout",
     "output_type": "stream",
     "text": [
      "0.9092789833737461 0.8692162428972547\n"
     ]
    }
   ],
   "source": [
    "model = LinearRegression()\n",
    "\n",
    "preprocessing = ColumnTransformer(\n",
    "    transformers=[\n",
    "        ('cat', Pipeline(steps=[\n",
    "            ('encoder', TargetEncoder(target_type='continuous', random_state=42)), # Different random states,\n",
    "        ]), categorical_features),\n",
    "        ('num', Pipeline(steps=[\n",
    "            ('scaler', StandardScaler()),\n",
    "            ('imputer', KNNImputer()),\n",
    "        ]), numerical_features),\n",
    "    ])\n",
    "\n",
    "pipeline = Pipeline(steps=[\n",
    "    ('preprocessing', preprocessing),\n",
    "    ('model', model)\n",
    "])\n",
    "\n",
    "pipeline.fit(X_train, y_train)\n",
    "\n",
    "print(pipeline.score(X_train, y_train),\n",
    "    pipeline.score(X_validation, y_validation))"
   ]
  },
  {
   "cell_type": "markdown",
   "metadata": {},
   "source": [
    "Train the KNN on all features"
   ]
  },
  {
   "cell_type": "code",
   "execution_count": 296,
   "metadata": {},
   "outputs": [
    {
     "name": "stdout",
     "output_type": "stream",
     "text": [
      "0.9064733814822454 0.8715218232600326\n"
     ]
    }
   ],
   "source": [
    "model = LinearRegression()\n",
    "\n",
    "preprocessing = ColumnTransformer(\n",
    "    transformers=[\n",
    "        ('cat', TargetEncoder(target_type='continuous', random_state=42), categorical_features),\n",
    "        ('num', StandardScaler(), numerical_features),\n",
    "    ])\n",
    "\n",
    "pipeline = Pipeline(steps=[\n",
    "    ('preprocessing', preprocessing),\n",
    "    ('imputer', KNNImputer()),\n",
    "    ('model', model)\n",
    "])\n",
    "\n",
    "pipeline.fit(X_train, y_train)\n",
    "\n",
    "print(pipeline.score(X_train, y_train),\n",
    "    pipeline.score(X_validation, y_validation))"
   ]
  },
  {
   "cell_type": "markdown",
   "metadata": {},
   "source": [
    "### Iterative imputer"
   ]
  },
  {
   "cell_type": "code",
   "execution_count": 297,
   "metadata": {},
   "outputs": [
    {
     "name": "stdout",
     "output_type": "stream",
     "text": [
      "0.9073823541699946 0.8610081131936762\n"
     ]
    }
   ],
   "source": [
    "model = LinearRegression()\n",
    "\n",
    "preprocessing = ColumnTransformer(\n",
    "    transformers=[\n",
    "        ('cat', Pipeline(steps=[\n",
    "            ('encoder', TargetEncoder(target_type='continuous', random_state=42)),\n",
    "        ]), categorical_features),\n",
    "        ('num', Pipeline(steps=[\n",
    "            ('scaler', StandardScaler()),\n",
    "        ]), numerical_features),\n",
    "    ])\n",
    "\n",
    "pipeline = Pipeline(steps=[\n",
    "    ('preprocessing', preprocessing),\n",
    "    ('imputing', IterativeImputer()),\n",
    "    ('model', model)\n",
    "])\n",
    "\n",
    "pipeline.fit(X_train, y_train)\n",
    "\n",
    "print(pipeline.score(X_train, y_train),\n",
    "    pipeline.score(X_validation, y_validation))"
   ]
  },
  {
   "cell_type": "markdown",
   "metadata": {},
   "source": [
    "Now use random forest instead. Which is more flexible than linear model"
   ]
  },
  {
   "cell_type": "code",
   "execution_count": 325,
   "metadata": {},
   "outputs": [
    {
     "name": "stdout",
     "output_type": "stream",
     "text": [
      "0.918508197706179 0.8915994059398358\n"
     ]
    }
   ],
   "source": [
    "from sklearn.ensemble import RandomForestRegressor\n",
    "\n",
    "model = LinearRegression()\n",
    "\n",
    "preprocessing = ColumnTransformer(\n",
    "    transformers=[\n",
    "        ('cat', Pipeline(steps=[\n",
    "            ('encoder', TargetEncoder(target_type='continuous', random_state=42)),\n",
    "        ]), categorical_features),\n",
    "        ('num', Pipeline(steps=[\n",
    "            ('scaler', StandardScaler()),\n",
    "        ]), numerical_features),\n",
    "    ])\n",
    "\n",
    "pipeline = Pipeline(steps=[\n",
    "    ('preprocessing', preprocessing),\n",
    "    ('imputing', IterativeImputer(estimator=RandomForestRegressor(max_depth=10), random_state=42)),\n",
    "    ('model', model)\n",
    "])\n",
    "\n",
    "pipeline.fit(X_train, y_train)\n",
    "\n",
    "print(pipeline.score(X_train, y_train),\n",
    "    pipeline.score(X_validation, y_validation))"
   ]
  },
  {
   "cell_type": "markdown",
   "metadata": {},
   "source": [
    "Now with one hot encoder"
   ]
  },
  {
   "cell_type": "code",
   "execution_count": 110,
   "metadata": {},
   "outputs": [
    {
     "name": "stderr",
     "output_type": "stream",
     "text": [
      "/home/rick/Documents/ai-codex-machine-learning-advanced/.venv/lib/python3.12/site-packages/sklearn/impute/_iterative.py:895: ConvergenceWarning: [IterativeImputer] Early stopping criterion not reached.\n",
      "  warnings.warn(\n"
     ]
    },
    {
     "name": "stdout",
     "output_type": "stream",
     "text": [
      "0.9263512086035525 0.884709152845709\n"
     ]
    }
   ],
   "source": [
    "from sklearn.ensemble import RandomForestRegressor\n",
    "\n",
    "model = LinearRegression()\n",
    "\n",
    "preprocessing = ColumnTransformer(\n",
    "    transformers=[\n",
    "        ('cat', Pipeline(steps=[\n",
    "            ('encoder', OneHotEncoder(drop='first', handle_unknown='ignore', min_frequency=10)),\n",
    "        ]), categorical_features),\n",
    "        ('num', Pipeline(steps=[\n",
    "            ('scaler', StandardScaler()),\n",
    "        ]), numerical_features),\n",
    "    ])\n",
    "\n",
    "pipeline = Pipeline(steps=[\n",
    "    ('preprocessing', preprocessing),\n",
    "    ('imputing', IterativeImputer(estimator=RandomForestRegressor(max_depth=10), random_state=42)),\n",
    "    ('model', model)\n",
    "])\n",
    "\n",
    "pipeline.fit(X_train, y_train)\n",
    "\n",
    "print(pipeline.score(X_train, y_train),\n",
    "    pipeline.score(X_validation, y_validation))"
   ]
  },
  {
   "cell_type": "code",
   "execution_count": null,
   "metadata": {},
   "outputs": [],
   "source": []
  }
 ],
 "metadata": {
  "kernelspec": {
   "display_name": ".venv",
   "language": "python",
   "name": "python3"
  },
  "language_info": {
   "codemirror_mode": {
    "name": "ipython",
    "version": 3
   },
   "file_extension": ".py",
   "mimetype": "text/x-python",
   "name": "python",
   "nbconvert_exporter": "python",
   "pygments_lexer": "ipython3",
   "version": "3.12.3"
  }
 },
 "nbformat": 4,
 "nbformat_minor": 2
}
